{
 "cells": [
  {
   "cell_type": "code",
   "execution_count": null,
   "id": "cc06773e-6727-423f-b7b7-95fa75325583",
   "metadata": {},
   "outputs": [],
   "source": []
  }
 ],
 "metadata": {
  "kernelspec": {
   "display_name": "",
   "name": ""
  },
  "language_info": {
   "name": ""
  }
 },
 "nbformat": 4,
 "nbformat_minor": 5
}
